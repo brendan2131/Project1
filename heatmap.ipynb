{
 "cells": [
  {
   "cell_type": "code",
   "execution_count": 26,
   "metadata": {},
   "outputs": [],
   "source": [
    "# Dependencies\n",
    "from census import Census\n",
    "# from config import (census_key, gkey)\n",
    "import gmaps\n",
    "import numpy as np\n",
    "import pandas as pd\n",
    "import requests\n",
    "import time\n",
    "from us import states\n",
    "import imp\n",
    "\n",
    "# Import API key\n",
    "temp_file = imp.load_source(\"gkey\", \"../Project1/gkey.py\")\n",
    "\n",
    "gkey = temp_file.gkey\n",
    "\n",
    "del temp_file"
   ]
  },
  {
   "cell_type": "code",
   "execution_count": 27,
   "metadata": {},
   "outputs": [
    {
     "data": {
      "text/html": [
       "<div>\n",
       "<style scoped>\n",
       "    .dataframe tbody tr th:only-of-type {\n",
       "        vertical-align: middle;\n",
       "    }\n",
       "\n",
       "    .dataframe tbody tr th {\n",
       "        vertical-align: top;\n",
       "    }\n",
       "\n",
       "    .dataframe thead th {\n",
       "        text-align: right;\n",
       "    }\n",
       "</style>\n",
       "<table border=\"1\" class=\"dataframe\">\n",
       "  <thead>\n",
       "    <tr style=\"text-align: right;\">\n",
       "      <th></th>\n",
       "      <th>Name</th>\n",
       "      <th>Address</th>\n",
       "      <th>Lat</th>\n",
       "      <th>Lng</th>\n",
       "      <th>Zip Code</th>\n",
       "    </tr>\n",
       "  </thead>\n",
       "  <tbody>\n",
       "    <tr>\n",
       "      <th>0</th>\n",
       "      <td>Fields Foods</td>\n",
       "      <td>1500 Lafayette Ave, St. Louis</td>\n",
       "      <td>38.6122561</td>\n",
       "      <td>-90.209282</td>\n",
       "      <td>63104</td>\n",
       "    </tr>\n",
       "    <tr>\n",
       "      <th>1</th>\n",
       "      <td>Schnucks Arsenal</td>\n",
       "      <td>5055 Arsenal, St. Louis</td>\n",
       "      <td>38.6068029</td>\n",
       "      <td>-90.273927</td>\n",
       "      <td>63139</td>\n",
       "    </tr>\n",
       "    <tr>\n",
       "      <th>2</th>\n",
       "      <td>Schnucks Lindell</td>\n",
       "      <td>4171 Lindell Blvd, St. Louis</td>\n",
       "      <td>38.641805</td>\n",
       "      <td>-90.2472562</td>\n",
       "      <td>63108</td>\n",
       "    </tr>\n",
       "    <tr>\n",
       "      <th>3</th>\n",
       "      <td>Straub's</td>\n",
       "      <td>8282 Forsyth Blvd, Clayton</td>\n",
       "      <td>38.652284</td>\n",
       "      <td>-90.344205</td>\n",
       "      <td>63105</td>\n",
       "    </tr>\n",
       "    <tr>\n",
       "      <th>4</th>\n",
       "      <td>Dierbergs Markets - Brentwood Pointe</td>\n",
       "      <td>8450 Eager Rd, St. Louis</td>\n",
       "      <td>38.627033</td>\n",
       "      <td>-90.339214</td>\n",
       "      <td>63144</td>\n",
       "    </tr>\n",
       "  </tbody>\n",
       "</table>\n",
       "</div>"
      ],
      "text/plain": [
       "                                   Name                        Address  \\\n",
       "0                          Fields Foods  1500 Lafayette Ave, St. Louis   \n",
       "1                      Schnucks Arsenal        5055 Arsenal, St. Louis   \n",
       "2                      Schnucks Lindell   4171 Lindell Blvd, St. Louis   \n",
       "3                              Straub's     8282 Forsyth Blvd, Clayton   \n",
       "4  Dierbergs Markets - Brentwood Pointe       8450 Eager Rd, St. Louis   \n",
       "\n",
       "          Lat          Lng Zip Code  \n",
       "0  38.6122561   -90.209282    63104  \n",
       "1  38.6068029   -90.273927    63139  \n",
       "2   38.641805  -90.2472562    63108  \n",
       "3   38.652284   -90.344205    63105  \n",
       "4   38.627033   -90.339214    63144  "
      ]
     },
     "execution_count": 27,
     "metadata": {},
     "output_type": "execute_result"
    }
   ],
   "source": [
    "grocery_df = pd.read_csv(\n",
    "    \"grocery.csv\", dtype=\"object\", encoding=\"utf-8\")\n",
    "\n",
    "grocery_df.head()"
   ]
  },
  {
   "cell_type": "code",
   "execution_count": 28,
   "metadata": {},
   "outputs": [],
   "source": [
    "# Configure gmaps with API key\n",
    "gmaps.configure(api_key=gkey)"
   ]
  },
  {
   "cell_type": "code",
   "execution_count": 29,
   "metadata": {},
   "outputs": [],
   "source": [
    "# Store 'Lat' and 'Lng' into  locations \n",
    "locations = grocery_df[[\"Lat\", \"Lng\"]].astype(float)"
   ]
  },
  {
   "cell_type": "code",
   "execution_count": null,
   "metadata": {},
   "outputs": [],
   "source": []
  },
  {
   "cell_type": "code",
   "execution_count": 32,
   "metadata": {},
   "outputs": [
    {
     "data": {
      "application/vnd.jupyter.widget-view+json": {
       "model_id": "6a84f7b7fc964737b40eceae813a959a",
       "version_major": 2,
       "version_minor": 0
      },
      "text/plain": [
       "Figure(layout=FigureLayout(border='1px solid black', height='300px', margin='0 auto 0 auto', padding='1px', wi…"
      ]
     },
     "metadata": {},
     "output_type": "display_data"
    }
   ],
   "source": [
    "# markers = gmaps.marker_layer(locations)\n",
    "store_layer = gmaps.symbol_layer(\n",
    "    locations, fill_color='rgba(200, 0, 0, 0.4)',\n",
    "    stroke_color='rgba(200, 0, 0, 0.4)', scale=2\n",
    ")\n",
    "fig.add_layer(store_layer)\n",
    "fig"
   ]
  },
  {
   "cell_type": "code",
   "execution_count": null,
   "metadata": {},
   "outputs": [],
   "source": []
  },
  {
   "cell_type": "code",
   "execution_count": null,
   "metadata": {},
   "outputs": [],
   "source": []
  }
 ],
 "metadata": {
  "kernelspec": {
   "display_name": "Python 3",
   "language": "python",
   "name": "python3"
  },
  "language_info": {
   "codemirror_mode": {
    "name": "ipython",
    "version": 3
   },
   "file_extension": ".py",
   "mimetype": "text/x-python",
   "name": "python",
   "nbconvert_exporter": "python",
   "pygments_lexer": "ipython3",
   "version": "3.7.1"
  }
 },
 "nbformat": 4,
 "nbformat_minor": 2
}
