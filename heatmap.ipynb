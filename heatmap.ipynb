{
 "cells": [
  {
   "cell_type": "code",
   "execution_count": 1,
   "metadata": {},
   "outputs": [],
   "source": [
    "# Dependencies\n",
    "from census import Census\n",
    "# from config import (census_key, gkey)\n",
    "import gmaps\n",
    "import numpy as np\n",
    "import pandas as pd\n",
    "import requests\n",
    "import time\n",
    "from us import states\n",
    "import imp\n",
    "\n",
    "# Import API key\n",
    "temp_file = imp.load_source(\"gkey\", \"../Project1/gkey.py\")\n",
    "\n",
    "gkey = temp_file.gkey\n",
    "\n",
    "del temp_file"
   ]
  },
  {
   "cell_type": "code",
   "execution_count": 22,
   "metadata": {},
   "outputs": [
    {
     "data": {
      "text/html": [
       "<div>\n",
       "<style scoped>\n",
       "    .dataframe tbody tr th:only-of-type {\n",
       "        vertical-align: middle;\n",
       "    }\n",
       "\n",
       "    .dataframe tbody tr th {\n",
       "        vertical-align: top;\n",
       "    }\n",
       "\n",
       "    .dataframe thead th {\n",
       "        text-align: right;\n",
       "    }\n",
       "</style>\n",
       "<table border=\"1\" class=\"dataframe\">\n",
       "  <thead>\n",
       "    <tr style=\"text-align: right;\">\n",
       "      <th></th>\n",
       "      <th>Name</th>\n",
       "      <th>Address</th>\n",
       "      <th>Lat</th>\n",
       "      <th>Lng</th>\n",
       "      <th>Zip Code</th>\n",
       "    </tr>\n",
       "  </thead>\n",
       "  <tbody>\n",
       "    <tr>\n",
       "      <th>0</th>\n",
       "      <td>Schnucks Lindell</td>\n",
       "      <td>4171 Lindell Blvd, St. Louis</td>\n",
       "      <td>38.641805</td>\n",
       "      <td>-90.2472562</td>\n",
       "      <td>63108</td>\n",
       "    </tr>\n",
       "    <tr>\n",
       "      <th>1</th>\n",
       "      <td>Schnucks Arsenal</td>\n",
       "      <td>5055 Arsenal, St. Louis</td>\n",
       "      <td>38.6068029</td>\n",
       "      <td>-90.273927</td>\n",
       "      <td>63139</td>\n",
       "    </tr>\n",
       "    <tr>\n",
       "      <th>2</th>\n",
       "      <td>Straub's</td>\n",
       "      <td>8282 Forsyth Blvd, Clayton</td>\n",
       "      <td>38.652284</td>\n",
       "      <td>-90.344205</td>\n",
       "      <td>63105</td>\n",
       "    </tr>\n",
       "    <tr>\n",
       "      <th>3</th>\n",
       "      <td>Schnucks Richmond Ctr.</td>\n",
       "      <td>SCHNUCKS RICHMOND CTR., 6600 Clayton Rd, St. L...</td>\n",
       "      <td>38.6334297</td>\n",
       "      <td>-90.31466809999999</td>\n",
       "      <td>63117</td>\n",
       "    </tr>\n",
       "    <tr>\n",
       "      <th>4</th>\n",
       "      <td>Schnucks South City</td>\n",
       "      <td>3430 S Grand Blvd, St. Louis</td>\n",
       "      <td>38.5950102</td>\n",
       "      <td>-90.24251540000002</td>\n",
       "      <td>63118</td>\n",
       "    </tr>\n",
       "  </tbody>\n",
       "</table>\n",
       "</div>"
      ],
      "text/plain": [
       "                     Name                                            Address  \\\n",
       "0        Schnucks Lindell                       4171 Lindell Blvd, St. Louis   \n",
       "1        Schnucks Arsenal                            5055 Arsenal, St. Louis   \n",
       "2                Straub's                         8282 Forsyth Blvd, Clayton   \n",
       "3  Schnucks Richmond Ctr.  SCHNUCKS RICHMOND CTR., 6600 Clayton Rd, St. L...   \n",
       "4     Schnucks South City                       3430 S Grand Blvd, St. Louis   \n",
       "\n",
       "          Lat                 Lng Zip Code  \n",
       "0   38.641805         -90.2472562    63108  \n",
       "1  38.6068029          -90.273927    63139  \n",
       "2   38.652284          -90.344205    63105  \n",
       "3  38.6334297  -90.31466809999999    63117  \n",
       "4  38.5950102  -90.24251540000002    63118  "
      ]
     },
     "execution_count": 22,
     "metadata": {},
     "output_type": "execute_result"
    }
   ],
   "source": [
    "grocery_df = pd.read_csv(\n",
    "    \"grocery_stl.csv\", dtype=\"object\", encoding=\"utf-8\")\n",
    "\n",
    "grocery_df.head()\n"
   ]
  },
  {
   "cell_type": "code",
   "execution_count": 23,
   "metadata": {},
   "outputs": [],
   "source": [
    "# Configure gmaps with API key\n",
    "gmaps.configure(api_key=gkey)"
   ]
  },
  {
   "cell_type": "code",
   "execution_count": 24,
   "metadata": {},
   "outputs": [],
   "source": [
    "# Store 'Lat' and 'Lng' into  locations \n",
    "locations = grocery_df[[\"Lat\", \"Lng\"]].astype(float)"
   ]
  },
  {
   "cell_type": "code",
   "execution_count": null,
   "metadata": {},
   "outputs": [],
   "source": []
  },
  {
   "cell_type": "code",
   "execution_count": 25,
   "metadata": {},
   "outputs": [
    {
     "data": {
      "application/vnd.jupyter.widget-view+json": {
       "model_id": "72ed2e849c0649629df3cfe49f092bbc",
       "version_major": 2,
       "version_minor": 0
      },
      "text/plain": [
       "Figure(layout=FigureLayout(height='420px'))"
      ]
     },
     "metadata": {},
     "output_type": "display_data"
    }
   ],
   "source": [
    "# markers = gmaps.marker_layer(locations)\n",
    "fig = gmaps.figure()\n",
    "store_layer = gmaps.symbol_layer(\n",
    "    locations, fill_color='rgba(300, 0, 0, 0.4)',\n",
    "    stroke_color='rgba(300, 0, 0, 0.4)', scale=2\n",
    ")\n",
    "fig.add_layer(store_layer)\n",
    "fig"
   ]
  },
  {
   "cell_type": "code",
   "execution_count": null,
   "metadata": {},
   "outputs": [],
   "source": []
  },
  {
   "cell_type": "code",
   "execution_count": null,
   "metadata": {},
   "outputs": [],
   "source": []
  }
 ],
 "metadata": {
  "kernelspec": {
   "display_name": "Python 3",
   "language": "python",
   "name": "python3"
  },
  "language_info": {
   "codemirror_mode": {
    "name": "ipython",
    "version": 3
   },
   "file_extension": ".py",
   "mimetype": "text/x-python",
   "name": "python",
   "nbconvert_exporter": "python",
   "pygments_lexer": "ipython3",
   "version": "3.7.1"
  }
 },
 "nbformat": 4,
 "nbformat_minor": 2
}
