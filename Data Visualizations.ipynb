{
 "cells": [
  {
   "cell_type": "code",
   "execution_count": 4,
   "metadata": {},
   "outputs": [],
   "source": [
    "# Dependencies\n",
    "import numpy as np\n",
    "import pandas as pd\n",
    "import matplotlib.pyplot as plt"
   ]
  },
  {
   "cell_type": "code",
   "execution_count": 5,
   "metadata": {},
   "outputs": [
    {
     "data": {
      "text/html": [
       "<div>\n",
       "<style scoped>\n",
       "    .dataframe tbody tr th:only-of-type {\n",
       "        vertical-align: middle;\n",
       "    }\n",
       "\n",
       "    .dataframe tbody tr th {\n",
       "        vertical-align: top;\n",
       "    }\n",
       "\n",
       "    .dataframe thead th {\n",
       "        text-align: right;\n",
       "    }\n",
       "</style>\n",
       "<table border=\"1\" class=\"dataframe\">\n",
       "  <thead>\n",
       "    <tr style=\"text-align: right;\">\n",
       "      <th></th>\n",
       "      <th>Zip Code</th>\n",
       "      <th>Grocery Store Count</th>\n",
       "      <th>Population</th>\n",
       "      <th>Household Income</th>\n",
       "      <th>Per Capita Income</th>\n",
       "      <th>Poverty Count</th>\n",
       "      <th>Poverty Rate</th>\n",
       "      <th>Unemployment Rate</th>\n",
       "      <th>White</th>\n",
       "      <th>Black</th>\n",
       "      <th>Asian</th>\n",
       "      <th>White %</th>\n",
       "      <th>Black %</th>\n",
       "      <th>Asian %</th>\n",
       "      <th>Obese %</th>\n",
       "      <th>Overweight %</th>\n",
       "      <th>Overweight or Obese %</th>\n",
       "      <th>Lat</th>\n",
       "      <th>Lng</th>\n",
       "    </tr>\n",
       "  </thead>\n",
       "  <tbody>\n",
       "    <tr>\n",
       "      <th>0</th>\n",
       "      <td>63118</td>\n",
       "      <td>4.0</td>\n",
       "      <td>28810.0</td>\n",
       "      <td>29880.0</td>\n",
       "      <td>19201.0</td>\n",
       "      <td>9996.0</td>\n",
       "      <td>34.696286011801455</td>\n",
       "      <td>6.626171468240194</td>\n",
       "      <td>12177.0</td>\n",
       "      <td>15464.0</td>\n",
       "      <td>1031.0</td>\n",
       "      <td>42.26657410621312</td>\n",
       "      <td>53.67580701145435</td>\n",
       "      <td>3.578618535230823</td>\n",
       "      <td>27.80%</td>\n",
       "      <td>33.90%</td>\n",
       "      <td>61.70%</td>\n",
       "      <td>38.5950619</td>\n",
       "      <td>-90.2291565</td>\n",
       "    </tr>\n",
       "    <tr>\n",
       "      <th>1</th>\n",
       "      <td>63108</td>\n",
       "      <td>4.0</td>\n",
       "      <td>21345.0</td>\n",
       "      <td>39162.0</td>\n",
       "      <td>37387.0</td>\n",
       "      <td>5799.0</td>\n",
       "      <td>27.167955024595923</td>\n",
       "      <td>4.928554696650269</td>\n",
       "      <td>11550.0</td>\n",
       "      <td>7684.0</td>\n",
       "      <td>2156.0</td>\n",
       "      <td>54.111033028812365</td>\n",
       "      <td>35.999063012415085</td>\n",
       "      <td>10.100726165378308</td>\n",
       "      <td>16.90%</td>\n",
       "      <td>31.20%</td>\n",
       "      <td>48.10%</td>\n",
       "      <td>38.647459</td>\n",
       "      <td>-90.25730999999999</td>\n",
       "    </tr>\n",
       "    <tr>\n",
       "      <th>2</th>\n",
       "      <td>63116</td>\n",
       "      <td>3.0</td>\n",
       "      <td>44175.0</td>\n",
       "      <td>41273.0</td>\n",
       "      <td>24673.0</td>\n",
       "      <td>9304.0</td>\n",
       "      <td>21.06168647425014</td>\n",
       "      <td>4.5319750990379175</td>\n",
       "      <td>30977.0</td>\n",
       "      <td>9475.0</td>\n",
       "      <td>3756.0</td>\n",
       "      <td>70.12337294850029</td>\n",
       "      <td>21.44878324844369</td>\n",
       "      <td>8.502546689303905</td>\n",
       "      <td>25.20%</td>\n",
       "      <td>33.90%</td>\n",
       "      <td>59.00%</td>\n",
       "      <td>38.5844866</td>\n",
       "      <td>-90.266699</td>\n",
       "    </tr>\n",
       "    <tr>\n",
       "      <th>3</th>\n",
       "      <td>63104</td>\n",
       "      <td>3.0</td>\n",
       "      <td>20320.0</td>\n",
       "      <td>47816.0</td>\n",
       "      <td>32508.0</td>\n",
       "      <td>5150.0</td>\n",
       "      <td>25.344488188976378</td>\n",
       "      <td>4.409448818897638</td>\n",
       "      <td>10432.0</td>\n",
       "      <td>9616.0</td>\n",
       "      <td>354.0</td>\n",
       "      <td>51.338582677165356</td>\n",
       "      <td>47.32283464566929</td>\n",
       "      <td>1.7421259842519685</td>\n",
       "      <td>22.20%</td>\n",
       "      <td>35.20%</td>\n",
       "      <td>57.40%</td>\n",
       "      <td>38.6160491</td>\n",
       "      <td>-90.2291565</td>\n",
       "    </tr>\n",
       "    <tr>\n",
       "      <th>4</th>\n",
       "      <td>63130</td>\n",
       "      <td>2.0</td>\n",
       "      <td>29488.0</td>\n",
       "      <td>63382.0</td>\n",
       "      <td>42794.0</td>\n",
       "      <td>4433.0</td>\n",
       "      <td>15.033233857840477</td>\n",
       "      <td>4.0864080303852415</td>\n",
       "      <td>16619.0</td>\n",
       "      <td>11621.0</td>\n",
       "      <td>1561.0</td>\n",
       "      <td>56.35851871947911</td>\n",
       "      <td>39.40925122083559</td>\n",
       "      <td>5.293678784590342</td>\n",
       "      <td>12.30%</td>\n",
       "      <td>29.10%</td>\n",
       "      <td>41.40%</td>\n",
       "      <td>38.6682669</td>\n",
       "      <td>-90.32308069999999</td>\n",
       "    </tr>\n",
       "  </tbody>\n",
       "</table>\n",
       "</div>"
      ],
      "text/plain": [
       "  Zip Code Grocery Store Count Population Household Income Per Capita Income  \\\n",
       "0    63118                 4.0    28810.0          29880.0           19201.0   \n",
       "1    63108                 4.0    21345.0          39162.0           37387.0   \n",
       "2    63116                 3.0    44175.0          41273.0           24673.0   \n",
       "3    63104                 3.0    20320.0          47816.0           32508.0   \n",
       "4    63130                 2.0    29488.0          63382.0           42794.0   \n",
       "\n",
       "  Poverty Count        Poverty Rate   Unemployment Rate    White    Black  \\\n",
       "0        9996.0  34.696286011801455   6.626171468240194  12177.0  15464.0   \n",
       "1        5799.0  27.167955024595923   4.928554696650269  11550.0   7684.0   \n",
       "2        9304.0   21.06168647425014  4.5319750990379175  30977.0   9475.0   \n",
       "3        5150.0  25.344488188976378   4.409448818897638  10432.0   9616.0   \n",
       "4        4433.0  15.033233857840477  4.0864080303852415  16619.0  11621.0   \n",
       "\n",
       "    Asian             White %             Black %             Asian % Obese %  \\\n",
       "0  1031.0   42.26657410621312   53.67580701145435   3.578618535230823  27.80%   \n",
       "1  2156.0  54.111033028812365  35.999063012415085  10.100726165378308  16.90%   \n",
       "2  3756.0   70.12337294850029   21.44878324844369   8.502546689303905  25.20%   \n",
       "3   354.0  51.338582677165356   47.32283464566929  1.7421259842519685  22.20%   \n",
       "4  1561.0   56.35851871947911   39.40925122083559   5.293678784590342  12.30%   \n",
       "\n",
       "  Overweight % Overweight or Obese %         Lat                 Lng  \n",
       "0       33.90%                61.70%  38.5950619         -90.2291565  \n",
       "1       31.20%                48.10%   38.647459  -90.25730999999999  \n",
       "2       33.90%                59.00%  38.5844866          -90.266699  \n",
       "3       35.20%                57.40%  38.6160491         -90.2291565  \n",
       "4       29.10%                41.40%  38.6682669  -90.32308069999999  "
      ]
     },
     "execution_count": 5,
     "metadata": {},
     "output_type": "execute_result"
    }
   ],
   "source": [
    "#Read in Data\n",
    "data_df = pd.read_csv(\n",
    "    \"resources/Data.csv\", dtype=\"object\", encoding=\"utf-8\")\n",
    "data_df.head()\n"
   ]
  },
  {
   "cell_type": "code",
   "execution_count": 6,
   "metadata": {},
   "outputs": [
    {
     "data": {
      "text/html": [
       "<div>\n",
       "<style scoped>\n",
       "    .dataframe tbody tr th:only-of-type {\n",
       "        vertical-align: middle;\n",
       "    }\n",
       "\n",
       "    .dataframe tbody tr th {\n",
       "        vertical-align: top;\n",
       "    }\n",
       "\n",
       "    .dataframe thead th {\n",
       "        text-align: right;\n",
       "    }\n",
       "</style>\n",
       "<table border=\"1\" class=\"dataframe\">\n",
       "  <thead>\n",
       "    <tr style=\"text-align: right;\">\n",
       "      <th></th>\n",
       "      <th>Zip Code</th>\n",
       "      <th>Grocery Store Count</th>\n",
       "      <th>Population</th>\n",
       "      <th>Household Income</th>\n",
       "      <th>Per Capita Income</th>\n",
       "      <th>Poverty Count</th>\n",
       "      <th>Poverty Rate</th>\n",
       "      <th>Unemployment Rate</th>\n",
       "      <th>White</th>\n",
       "      <th>Black</th>\n",
       "      <th>Asian</th>\n",
       "      <th>White %</th>\n",
       "      <th>Black %</th>\n",
       "      <th>Asian %</th>\n",
       "      <th>Obese %</th>\n",
       "      <th>Overweight %</th>\n",
       "      <th>Overweight or Obese %</th>\n",
       "      <th>Lat</th>\n",
       "      <th>Lng</th>\n",
       "    </tr>\n",
       "  </thead>\n",
       "  <tbody>\n",
       "    <tr>\n",
       "      <th>0</th>\n",
       "      <td>63118</td>\n",
       "      <td>4.0</td>\n",
       "      <td>28810.0</td>\n",
       "      <td>29880.0</td>\n",
       "      <td>19201.0</td>\n",
       "      <td>9996.0</td>\n",
       "      <td>34.696286</td>\n",
       "      <td>6.626171</td>\n",
       "      <td>12177.0</td>\n",
       "      <td>15464.0</td>\n",
       "      <td>1031.0</td>\n",
       "      <td>42.266574</td>\n",
       "      <td>53.675807</td>\n",
       "      <td>3.578619</td>\n",
       "      <td>27.8</td>\n",
       "      <td>33.90%</td>\n",
       "      <td>61.70%</td>\n",
       "      <td>38.595062</td>\n",
       "      <td>-90.229156</td>\n",
       "    </tr>\n",
       "    <tr>\n",
       "      <th>1</th>\n",
       "      <td>63108</td>\n",
       "      <td>4.0</td>\n",
       "      <td>21345.0</td>\n",
       "      <td>39162.0</td>\n",
       "      <td>37387.0</td>\n",
       "      <td>5799.0</td>\n",
       "      <td>27.167955</td>\n",
       "      <td>4.928555</td>\n",
       "      <td>11550.0</td>\n",
       "      <td>7684.0</td>\n",
       "      <td>2156.0</td>\n",
       "      <td>54.111033</td>\n",
       "      <td>35.999063</td>\n",
       "      <td>10.100726</td>\n",
       "      <td>16.9</td>\n",
       "      <td>31.20%</td>\n",
       "      <td>48.10%</td>\n",
       "      <td>38.647459</td>\n",
       "      <td>-90.257310</td>\n",
       "    </tr>\n",
       "    <tr>\n",
       "      <th>2</th>\n",
       "      <td>63116</td>\n",
       "      <td>3.0</td>\n",
       "      <td>44175.0</td>\n",
       "      <td>41273.0</td>\n",
       "      <td>24673.0</td>\n",
       "      <td>9304.0</td>\n",
       "      <td>21.061686</td>\n",
       "      <td>4.531975</td>\n",
       "      <td>30977.0</td>\n",
       "      <td>9475.0</td>\n",
       "      <td>3756.0</td>\n",
       "      <td>70.123373</td>\n",
       "      <td>21.448783</td>\n",
       "      <td>8.502547</td>\n",
       "      <td>25.2</td>\n",
       "      <td>33.90%</td>\n",
       "      <td>59.00%</td>\n",
       "      <td>38.584487</td>\n",
       "      <td>-90.266699</td>\n",
       "    </tr>\n",
       "    <tr>\n",
       "      <th>3</th>\n",
       "      <td>63104</td>\n",
       "      <td>3.0</td>\n",
       "      <td>20320.0</td>\n",
       "      <td>47816.0</td>\n",
       "      <td>32508.0</td>\n",
       "      <td>5150.0</td>\n",
       "      <td>25.344488</td>\n",
       "      <td>4.409449</td>\n",
       "      <td>10432.0</td>\n",
       "      <td>9616.0</td>\n",
       "      <td>354.0</td>\n",
       "      <td>51.338583</td>\n",
       "      <td>47.322835</td>\n",
       "      <td>1.742126</td>\n",
       "      <td>22.2</td>\n",
       "      <td>35.20%</td>\n",
       "      <td>57.40%</td>\n",
       "      <td>38.616049</td>\n",
       "      <td>-90.229156</td>\n",
       "    </tr>\n",
       "    <tr>\n",
       "      <th>4</th>\n",
       "      <td>63130</td>\n",
       "      <td>2.0</td>\n",
       "      <td>29488.0</td>\n",
       "      <td>63382.0</td>\n",
       "      <td>42794.0</td>\n",
       "      <td>4433.0</td>\n",
       "      <td>15.033234</td>\n",
       "      <td>4.086408</td>\n",
       "      <td>16619.0</td>\n",
       "      <td>11621.0</td>\n",
       "      <td>1561.0</td>\n",
       "      <td>56.358519</td>\n",
       "      <td>39.409251</td>\n",
       "      <td>5.293679</td>\n",
       "      <td>12.3</td>\n",
       "      <td>29.10%</td>\n",
       "      <td>41.40%</td>\n",
       "      <td>38.668267</td>\n",
       "      <td>-90.323081</td>\n",
       "    </tr>\n",
       "  </tbody>\n",
       "</table>\n",
       "</div>"
      ],
      "text/plain": [
       "   Zip Code  Grocery Store Count  Population  Household Income  \\\n",
       "0     63118                  4.0     28810.0           29880.0   \n",
       "1     63108                  4.0     21345.0           39162.0   \n",
       "2     63116                  3.0     44175.0           41273.0   \n",
       "3     63104                  3.0     20320.0           47816.0   \n",
       "4     63130                  2.0     29488.0           63382.0   \n",
       "\n",
       "   Per Capita Income  Poverty Count  Poverty Rate  Unemployment Rate    White  \\\n",
       "0            19201.0         9996.0     34.696286           6.626171  12177.0   \n",
       "1            37387.0         5799.0     27.167955           4.928555  11550.0   \n",
       "2            24673.0         9304.0     21.061686           4.531975  30977.0   \n",
       "3            32508.0         5150.0     25.344488           4.409449  10432.0   \n",
       "4            42794.0         4433.0     15.033234           4.086408  16619.0   \n",
       "\n",
       "     Black   Asian    White %    Black %    Asian %  Obese % Overweight %  \\\n",
       "0  15464.0  1031.0  42.266574  53.675807   3.578619     27.8       33.90%   \n",
       "1   7684.0  2156.0  54.111033  35.999063  10.100726     16.9       31.20%   \n",
       "2   9475.0  3756.0  70.123373  21.448783   8.502547     25.2       33.90%   \n",
       "3   9616.0   354.0  51.338583  47.322835   1.742126     22.2       35.20%   \n",
       "4  11621.0  1561.0  56.358519  39.409251   5.293679     12.3       29.10%   \n",
       "\n",
       "  Overweight or Obese %        Lat        Lng  \n",
       "0                61.70%  38.595062 -90.229156  \n",
       "1                48.10%  38.647459 -90.257310  \n",
       "2                59.00%  38.584487 -90.266699  \n",
       "3                57.40%  38.616049 -90.229156  \n",
       "4                41.40%  38.668267 -90.323081  "
      ]
     },
     "execution_count": 6,
     "metadata": {},
     "output_type": "execute_result"
    }
   ],
   "source": [
    "#Clean up DataFrame\n",
    "data_df = data_df.fillna(0)\n",
    "data_df[\"Obese %\"]=data_df[\"Obese %\"].str.replace(\"%\",\"\")\n",
    "data_df = data_df.apply(pd.to_numeric, errors = 'ignore')\n",
    "data_df.head()\n"
   ]
  },
  {
   "cell_type": "markdown",
   "metadata": {},
   "source": [
    "# Obesity Rate vs. Number of Grocery Stores"
   ]
  },
  {
   "cell_type": "code",
   "execution_count": 7,
   "metadata": {},
   "outputs": [
    {
     "data": {
      "image/png": "[encoded data removed]",
      "text/plain": [
       "<Figure size 432x288 with 1 Axes>"
      ]
     },
     "metadata": {
      "needs_background": "light"
     },
     "output_type": "display_data"
    }
   ],
   "source": [
    "#Scatter Num Grocery and Obesity Rate\n",
    "data_df.plot.scatter(x=\"Obese %\", y= \"Grocery Store Count\", alpha = 0.75)\n",
    "plt.title('STL City: Obesity Rate vs. Number of Grocery Stores')\n",
    "plt.xlabel('Obesity Rate')\n",
    "plt.ylabel('Grocery Store Count')\n",
    "plt.ylim(-1,4)\n",
    "plt.yticks([0,1,2,3,4,5,6])\n",
    "plt.savefig (\"Grocery_Obesity_Scatter\")"
   ]
  },
  {
   "cell_type": "code",
   "execution_count": 8,
   "metadata": {},
   "outputs": [
    {
     "data": {
      "text/html": [
       "<div>\n",
       "<style scoped>\n",
       "    .dataframe tbody tr th:only-of-type {\n",
       "        vertical-align: middle;\n",
       "    }\n",
       "\n",
       "    .dataframe tbody tr th {\n",
       "        vertical-align: top;\n",
       "    }\n",
       "\n",
       "    .dataframe thead th {\n",
       "        text-align: right;\n",
       "    }\n",
       "</style>\n",
       "<table border=\"1\" class=\"dataframe\">\n",
       "  <thead>\n",
       "    <tr style=\"text-align: right;\">\n",
       "      <th></th>\n",
       "      <th>Grocery Store Count</th>\n",
       "      <th>Obese %</th>\n",
       "    </tr>\n",
       "  </thead>\n",
       "  <tbody>\n",
       "    <tr>\n",
       "      <th>Grocery Store Count</th>\n",
       "      <td>1.000000</td>\n",
       "      <td>-0.382856</td>\n",
       "    </tr>\n",
       "    <tr>\n",
       "      <th>Obese %</th>\n",
       "      <td>-0.382856</td>\n",
       "      <td>1.000000</td>\n",
       "    </tr>\n",
       "  </tbody>\n",
       "</table>\n",
       "</div>"
      ],
      "text/plain": [
       "                     Grocery Store Count   Obese %\n",
       "Grocery Store Count             1.000000 -0.382856\n",
       "Obese %                        -0.382856  1.000000"
      ]
     },
     "execution_count": 8,
     "metadata": {},
     "output_type": "execute_result"
    }
   ],
   "source": [
    "#Find Pearson Corr Coeff Between Obesity Rate and Number of Grocery Stores\n",
    "corrgo_data_df = data_df[['Grocery Store Count', 'Obese %']]\n",
    "corr_go = corrgo_data_df.corr(method = 'pearson')\n",
    "corr_go"
   ]
  },
  {
   "cell_type": "markdown",
   "metadata": {},
   "source": [
    "# Number of Grocery Stores vs. Household Income"
   ]
  },
  {
   "cell_type": "code",
   "execution_count": 9,
   "metadata": {},
   "outputs": [
    {
     "data": {
      "image/png": "[encoded data removed]",
      "text/plain": [
       "<Figure size 432x288 with 1 Axes>"
      ]
     },
     "metadata": {
      "needs_background": "light"
     },
     "output_type": "display_data"
    }
   ],
   "source": [
    "#Scatter Num Grocery and Household Income \n",
    "data_df.plot.scatter(x= 'Household Income', y='Grocery Store Count', alpha = 0.75)\n",
    "plt.title('STL City: Income vs. Number of Grocery Stores')\n",
    "plt.xlabel('Household Income')\n",
    "plt.ylabel('Grocery Store Count')\n",
    "plt.ylim(-1,4)\n",
    "plt.yticks([0,1,2,3,4,5,6])\n",
    "plt.savefig (\"Income_Grocery_Scatter\")"
   ]
  },
  {
   "cell_type": "code",
   "execution_count": 10,
   "metadata": {},
   "outputs": [
    {
     "data": {
      "text/html": [
       "<div>\n",
       "<style scoped>\n",
       "    .dataframe tbody tr th:only-of-type {\n",
       "        vertical-align: middle;\n",
       "    }\n",
       "\n",
       "    .dataframe tbody tr th {\n",
       "        vertical-align: top;\n",
       "    }\n",
       "\n",
       "    .dataframe thead th {\n",
       "        text-align: right;\n",
       "    }\n",
       "</style>\n",
       "<table border=\"1\" class=\"dataframe\">\n",
       "  <thead>\n",
       "    <tr style=\"text-align: right;\">\n",
       "      <th></th>\n",
       "      <th>Grocery Store Count</th>\n",
       "      <th>Household Income</th>\n",
       "    </tr>\n",
       "  </thead>\n",
       "  <tbody>\n",
       "    <tr>\n",
       "      <th>Grocery Store Count</th>\n",
       "      <td>1.000000</td>\n",
       "      <td>0.166412</td>\n",
       "    </tr>\n",
       "    <tr>\n",
       "      <th>Household Income</th>\n",
       "      <td>0.166412</td>\n",
       "      <td>1.000000</td>\n",
       "    </tr>\n",
       "  </tbody>\n",
       "</table>\n",
       "</div>"
      ],
      "text/plain": [
       "                     Grocery Store Count  Household Income\n",
       "Grocery Store Count             1.000000          0.166412\n",
       "Household Income                0.166412          1.000000"
      ]
     },
     "execution_count": 10,
     "metadata": {},
     "output_type": "execute_result"
    }
   ],
   "source": [
    "#Find Pearson Corr Coeff Between Household Income and Number of Grocery Stores\n",
    "corrig_data_df = data_df[['Grocery Store Count', 'Household Income']]\n",
    "corr_ig = corrig_data_df.corr(method = 'pearson')\n",
    "corr_ig"
   ]
  },
  {
   "cell_type": "markdown",
   "metadata": {},
   "source": [
    "# Number of Grocery Stores per Zip Code"
   ]
  },
  {
   "cell_type": "code",
   "execution_count": 11,
   "metadata": {},
   "outputs": [
    {
     "data": {
      "image/png": "[encoded data removed]",
      "text/plain": [
       "<Figure size 432x288 with 1 Axes>"
      ]
     },
     "metadata": {
      "needs_background": "light"
     },
     "output_type": "display_data"
    }
   ],
   "source": [
    "#Make bar Graph for zip code and num grocery stores \n",
    "data_df.plot.bar(x= 'Zip Code', y ='Grocery Store Count', alpha = 0.75)\n",
    "plt.title('STL City: Num of Grocery Stores per Zipcode')\n",
    "plt.xlabel('Zipcode')\n",
    "plt.ylabel('Grocery Store Count')\n",
    "plt.yticks([0,1,2,3,4,5,6])\n",
    "plt.savefig (\"Grocery_Zip_Bar\")"
   ]
  },
  {
   "cell_type": "markdown",
   "metadata": {},
   "source": [
    "# Percentage of White Identifying Population per Zip Code vs. Number of Grocery Stores"
   ]
  },
  {
   "cell_type": "code",
   "execution_count": 12,
   "metadata": {},
   "outputs": [
    {
     "data": {
      "image/png": "[encoded data removed]",
      "text/plain": [
       "<Figure size 432x288 with 1 Axes>"
      ]
     },
     "metadata": {
      "needs_background": "light"
     },
     "output_type": "display_data"
    }
   ],
   "source": [
    "#Scatterplot comparing %White to Number of Grocery Stores\n",
    "data_df.plot.scatter(x= 'White %', y='Grocery Store Count', alpha = 0.75)\n",
    "plt.title('STL City: % White vs. Number of Grocery Stores')\n",
    "plt.xlabel('% White per Zipcode')\n",
    "plt.ylabel('Grocery Store Count')\n",
    "plt.ylim(-1,4)\n",
    "plt.yticks([0,1,2,3,4,5,6])\n",
    "plt.savefig (\"Race_Grocery_Scatter\")"
   ]
  },
  {
   "cell_type": "code",
   "execution_count": 13,
   "metadata": {},
   "outputs": [
    {
     "data": {
      "text/html": [
       "<div>\n",
       "<style scoped>\n",
       "    .dataframe tbody tr th:only-of-type {\n",
       "        vertical-align: middle;\n",
       "    }\n",
       "\n",
       "    .dataframe tbody tr th {\n",
       "        vertical-align: top;\n",
       "    }\n",
       "\n",
       "    .dataframe thead th {\n",
       "        text-align: right;\n",
       "    }\n",
       "</style>\n",
       "<table border=\"1\" class=\"dataframe\">\n",
       "  <thead>\n",
       "    <tr style=\"text-align: right;\">\n",
       "      <th></th>\n",
       "      <th>Grocery Store Count</th>\n",
       "      <th>White %</th>\n",
       "    </tr>\n",
       "  </thead>\n",
       "  <tbody>\n",
       "    <tr>\n",
       "      <th>Grocery Store Count</th>\n",
       "      <td>1.000000</td>\n",
       "      <td>0.221551</td>\n",
       "    </tr>\n",
       "    <tr>\n",
       "      <th>White %</th>\n",
       "      <td>0.221551</td>\n",
       "      <td>1.000000</td>\n",
       "    </tr>\n",
       "  </tbody>\n",
       "</table>\n",
       "</div>"
      ],
      "text/plain": [
       "                     Grocery Store Count   White %\n",
       "Grocery Store Count             1.000000  0.221551\n",
       "White %                         0.221551  1.000000"
      ]
     },
     "execution_count": 13,
     "metadata": {},
     "output_type": "execute_result"
    }
   ],
   "source": [
    "#Pearson Corr Coeff for %White and Num Grocery Stores \n",
    "corrwg_data_df = data_df[['Grocery Store Count', 'White %']]\n",
    "corr_wg = corrwg_data_df.corr(method = 'pearson')\n",
    "corr_wg"
   ]
  },
  {
   "cell_type": "code",
   "execution_count": null,
   "metadata": {},
   "outputs": [],
   "source": []
  }
 ],
 "metadata": {
  "kernelspec": {
   "display_name": "Python (pythondata)",
   "language": "python",
   "name": "pythondata"
  },
  "language_info": {
   "codemirror_mode": {
    "name": "ipython",
    "version": 3
   },
   "file_extension": ".py",
   "mimetype": "text/x-python",
   "name": "python",
   "nbconvert_exporter": "python",
   "pygments_lexer": "ipython3",
   "version": "3.6.7"
  }
 },
 "nbformat": 4,
 "nbformat_minor": 2
}
