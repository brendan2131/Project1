{
 "cells": [
  {
   "cell_type": "code",
   "execution_count": 43,
   "metadata": {},
   "outputs": [],
   "source": [
    "# Dependencies\n",
    "import gmaps\n",
    "import pandas as pd\n",
    "import imp\n",
    "\n",
    "# Import API key\n",
    "temp_file = imp.load_source(\"gkey\", \"../Project1/gkey.py\")\n",
    "\n",
    "gkey = temp_file.gkey\n",
    "\n",
    "del temp_file"
   ]
  },
  {
   "cell_type": "code",
   "execution_count": 44,
   "metadata": {},
   "outputs": [
    {
     "data": {
      "text/html": [
       "<div>\n",
       "<style scoped>\n",
       "    .dataframe tbody tr th:only-of-type {\n",
       "        vertical-align: middle;\n",
       "    }\n",
       "\n",
       "    .dataframe tbody tr th {\n",
       "        vertical-align: top;\n",
       "    }\n",
       "\n",
       "    .dataframe thead th {\n",
       "        text-align: right;\n",
       "    }\n",
       "</style>\n",
       "<table border=\"1\" class=\"dataframe\">\n",
       "  <thead>\n",
       "    <tr style=\"text-align: right;\">\n",
       "      <th></th>\n",
       "      <th>Name</th>\n",
       "      <th>Address</th>\n",
       "      <th>Lat</th>\n",
       "      <th>Lng</th>\n",
       "      <th>Zip Code</th>\n",
       "    </tr>\n",
       "  </thead>\n",
       "  <tbody>\n",
       "    <tr>\n",
       "      <th>0</th>\n",
       "      <td>Schnucks Arsenal</td>\n",
       "      <td>5055 Arsenal, St. Louis</td>\n",
       "      <td>38.6068029</td>\n",
       "      <td>-90.273927</td>\n",
       "      <td>63139</td>\n",
       "    </tr>\n",
       "    <tr>\n",
       "      <th>1</th>\n",
       "      <td>Schnucks Lindell</td>\n",
       "      <td>4171 Lindell Blvd, St. Louis</td>\n",
       "      <td>38.641805</td>\n",
       "      <td>-90.2472562</td>\n",
       "      <td>63108</td>\n",
       "    </tr>\n",
       "    <tr>\n",
       "      <th>2</th>\n",
       "      <td>Straub's</td>\n",
       "      <td>8282 Forsyth Blvd, Clayton</td>\n",
       "      <td>38.652284</td>\n",
       "      <td>-90.344205</td>\n",
       "      <td>63105</td>\n",
       "    </tr>\n",
       "    <tr>\n",
       "      <th>3</th>\n",
       "      <td>Schnucks Richmond Ctr.</td>\n",
       "      <td>SCHNUCKS RICHMOND CTR., 6600 Clayton Rd, St. L...</td>\n",
       "      <td>38.6334297</td>\n",
       "      <td>-90.31466809999999</td>\n",
       "      <td>63117</td>\n",
       "    </tr>\n",
       "    <tr>\n",
       "      <th>4</th>\n",
       "      <td>Schnucks South City</td>\n",
       "      <td>3430 S Grand Blvd, St. Louis</td>\n",
       "      <td>38.5950102</td>\n",
       "      <td>-90.24251540000002</td>\n",
       "      <td>63118</td>\n",
       "    </tr>\n",
       "  </tbody>\n",
       "</table>\n",
       "</div>"
      ],
      "text/plain": [
       "                     Name                                            Address  \\\n",
       "0        Schnucks Arsenal                            5055 Arsenal, St. Louis   \n",
       "1        Schnucks Lindell                       4171 Lindell Blvd, St. Louis   \n",
       "2                Straub's                         8282 Forsyth Blvd, Clayton   \n",
       "3  Schnucks Richmond Ctr.  SCHNUCKS RICHMOND CTR., 6600 Clayton Rd, St. L...   \n",
       "4     Schnucks South City                       3430 S Grand Blvd, St. Louis   \n",
       "\n",
       "          Lat                 Lng Zip Code  \n",
       "0  38.6068029          -90.273927    63139  \n",
       "1   38.641805         -90.2472562    63108  \n",
       "2   38.652284          -90.344205    63105  \n",
       "3  38.6334297  -90.31466809999999    63117  \n",
       "4  38.5950102  -90.24251540000002    63118  "
      ]
     },
     "execution_count": 44,
     "metadata": {},
     "output_type": "execute_result"
    }
   ],
   "source": [
    "grocery_df = pd.read_csv(\n",
    "    \"grocery_stl.csv\", dtype=\"object\", encoding=\"utf-8\")\n",
    "\n",
    "grocery_df.head()\n"
   ]
  },
  {
   "cell_type": "code",
   "execution_count": 47,
   "metadata": {},
   "outputs": [
    {
     "data": {
      "text/html": [
       "<div>\n",
       "<style scoped>\n",
       "    .dataframe tbody tr th:only-of-type {\n",
       "        vertical-align: middle;\n",
       "    }\n",
       "\n",
       "    .dataframe tbody tr th {\n",
       "        vertical-align: top;\n",
       "    }\n",
       "\n",
       "    .dataframe thead th {\n",
       "        text-align: right;\n",
       "    }\n",
       "</style>\n",
       "<table border=\"1\" class=\"dataframe\">\n",
       "  <thead>\n",
       "    <tr style=\"text-align: right;\">\n",
       "      <th></th>\n",
       "      <th>Zip Code</th>\n",
       "      <th>Grocery Store Count</th>\n",
       "      <th>Population</th>\n",
       "      <th>Household Income</th>\n",
       "      <th>Per Capita Income</th>\n",
       "      <th>Poverty Count</th>\n",
       "      <th>Poverty Rate</th>\n",
       "      <th>Unemployment Rate</th>\n",
       "      <th>White</th>\n",
       "      <th>Black</th>\n",
       "      <th>Asian</th>\n",
       "      <th>White %</th>\n",
       "      <th>Black %</th>\n",
       "      <th>Asian %</th>\n",
       "      <th>Obese %</th>\n",
       "      <th>Overweight %</th>\n",
       "      <th>Overweight or Obese %</th>\n",
       "      <th>Lat</th>\n",
       "      <th>Lng</th>\n",
       "    </tr>\n",
       "  </thead>\n",
       "  <tbody>\n",
       "    <tr>\n",
       "      <th>0</th>\n",
       "      <td>63118</td>\n",
       "      <td>4.0</td>\n",
       "      <td>28810.0</td>\n",
       "      <td>29880.0</td>\n",
       "      <td>19201.0</td>\n",
       "      <td>9996.0</td>\n",
       "      <td>34.696286011801455</td>\n",
       "      <td>6.626171468240194</td>\n",
       "      <td>12177.0</td>\n",
       "      <td>15464.0</td>\n",
       "      <td>1031.0</td>\n",
       "      <td>42.26657410621312</td>\n",
       "      <td>53.67580701145435</td>\n",
       "      <td>3.578618535230823</td>\n",
       "      <td>27.80%</td>\n",
       "      <td>33.90%</td>\n",
       "      <td>61.70%</td>\n",
       "      <td>38.5950619</td>\n",
       "      <td>-90.2291565</td>\n",
       "    </tr>\n",
       "    <tr>\n",
       "      <th>1</th>\n",
       "      <td>63108</td>\n",
       "      <td>4.0</td>\n",
       "      <td>21345.0</td>\n",
       "      <td>39162.0</td>\n",
       "      <td>37387.0</td>\n",
       "      <td>5799.0</td>\n",
       "      <td>27.167955024595923</td>\n",
       "      <td>4.928554696650269</td>\n",
       "      <td>11550.0</td>\n",
       "      <td>7684.0</td>\n",
       "      <td>2156.0</td>\n",
       "      <td>54.111033028812365</td>\n",
       "      <td>35.999063012415085</td>\n",
       "      <td>10.100726165378308</td>\n",
       "      <td>16.90%</td>\n",
       "      <td>31.20%</td>\n",
       "      <td>48.10%</td>\n",
       "      <td>38.647459</td>\n",
       "      <td>-90.25730999999999</td>\n",
       "    </tr>\n",
       "    <tr>\n",
       "      <th>2</th>\n",
       "      <td>63116</td>\n",
       "      <td>3.0</td>\n",
       "      <td>44175.0</td>\n",
       "      <td>41273.0</td>\n",
       "      <td>24673.0</td>\n",
       "      <td>9304.0</td>\n",
       "      <td>21.06168647425014</td>\n",
       "      <td>4.5319750990379175</td>\n",
       "      <td>30977.0</td>\n",
       "      <td>9475.0</td>\n",
       "      <td>3756.0</td>\n",
       "      <td>70.12337294850029</td>\n",
       "      <td>21.44878324844369</td>\n",
       "      <td>8.502546689303905</td>\n",
       "      <td>25.20%</td>\n",
       "      <td>33.90%</td>\n",
       "      <td>59.00%</td>\n",
       "      <td>38.5844866</td>\n",
       "      <td>-90.266699</td>\n",
       "    </tr>\n",
       "    <tr>\n",
       "      <th>3</th>\n",
       "      <td>63104</td>\n",
       "      <td>3.0</td>\n",
       "      <td>20320.0</td>\n",
       "      <td>47816.0</td>\n",
       "      <td>32508.0</td>\n",
       "      <td>5150.0</td>\n",
       "      <td>25.344488188976378</td>\n",
       "      <td>4.409448818897638</td>\n",
       "      <td>10432.0</td>\n",
       "      <td>9616.0</td>\n",
       "      <td>354.0</td>\n",
       "      <td>51.338582677165356</td>\n",
       "      <td>47.32283464566929</td>\n",
       "      <td>1.7421259842519685</td>\n",
       "      <td>22.20%</td>\n",
       "      <td>35.20%</td>\n",
       "      <td>57.40%</td>\n",
       "      <td>38.6160491</td>\n",
       "      <td>-90.2291565</td>\n",
       "    </tr>\n",
       "    <tr>\n",
       "      <th>4</th>\n",
       "      <td>63130</td>\n",
       "      <td>2.0</td>\n",
       "      <td>29488.0</td>\n",
       "      <td>63382.0</td>\n",
       "      <td>42794.0</td>\n",
       "      <td>4433.0</td>\n",
       "      <td>15.033233857840477</td>\n",
       "      <td>4.0864080303852415</td>\n",
       "      <td>16619.0</td>\n",
       "      <td>11621.0</td>\n",
       "      <td>1561.0</td>\n",
       "      <td>56.35851871947911</td>\n",
       "      <td>39.40925122083559</td>\n",
       "      <td>5.293678784590342</td>\n",
       "      <td>12.30%</td>\n",
       "      <td>29.10%</td>\n",
       "      <td>41.40%</td>\n",
       "      <td>38.6682669</td>\n",
       "      <td>-90.32308069999999</td>\n",
       "    </tr>\n",
       "  </tbody>\n",
       "</table>\n",
       "</div>"
      ],
      "text/plain": [
       "  Zip Code Grocery Store Count Population Household Income Per Capita Income  \\\n",
       "0    63118                 4.0    28810.0          29880.0           19201.0   \n",
       "1    63108                 4.0    21345.0          39162.0           37387.0   \n",
       "2    63116                 3.0    44175.0          41273.0           24673.0   \n",
       "3    63104                 3.0    20320.0          47816.0           32508.0   \n",
       "4    63130                 2.0    29488.0          63382.0           42794.0   \n",
       "\n",
       "  Poverty Count        Poverty Rate   Unemployment Rate    White    Black  \\\n",
       "0        9996.0  34.696286011801455   6.626171468240194  12177.0  15464.0   \n",
       "1        5799.0  27.167955024595923   4.928554696650269  11550.0   7684.0   \n",
       "2        9304.0   21.06168647425014  4.5319750990379175  30977.0   9475.0   \n",
       "3        5150.0  25.344488188976378   4.409448818897638  10432.0   9616.0   \n",
       "4        4433.0  15.033233857840477  4.0864080303852415  16619.0  11621.0   \n",
       "\n",
       "    Asian             White %             Black %             Asian % Obese %  \\\n",
       "0  1031.0   42.26657410621312   53.67580701145435   3.578618535230823  27.80%   \n",
       "1  2156.0  54.111033028812365  35.999063012415085  10.100726165378308  16.90%   \n",
       "2  3756.0   70.12337294850029   21.44878324844369   8.502546689303905  25.20%   \n",
       "3   354.0  51.338582677165356   47.32283464566929  1.7421259842519685  22.20%   \n",
       "4  1561.0   56.35851871947911   39.40925122083559   5.293678784590342  12.30%   \n",
       "\n",
       "  Overweight % Overweight or Obese %         Lat                 Lng  \n",
       "0       33.90%                61.70%  38.5950619         -90.2291565  \n",
       "1       31.20%                48.10%   38.647459  -90.25730999999999  \n",
       "2       33.90%                59.00%  38.5844866          -90.266699  \n",
       "3       35.20%                57.40%  38.6160491         -90.2291565  \n",
       "4       29.10%                41.40%  38.6682669  -90.32308069999999  "
      ]
     },
     "execution_count": 47,
     "metadata": {},
     "output_type": "execute_result"
    }
   ],
   "source": [
    "data_df = pd.read_csv(\n",
    "    \"data.csv\", dtype=\"object\", encoding=\"utf-8\")\n",
    "\n",
    "data_df.head()\n"
   ]
  },
  {
   "cell_type": "code",
   "execution_count": 48,
   "metadata": {},
   "outputs": [],
   "source": [
    "# Configure gmaps with API key\n",
    "gmaps.configure(api_key=gkey)"
   ]
  },
  {
   "cell_type": "code",
   "execution_count": 49,
   "metadata": {},
   "outputs": [],
   "source": [
    "# Store 'Lat' and 'Lng' into  locations \n",
    "locations = grocery_df[[\"Lat\", \"Lng\"]].astype(float)"
   ]
  },
  {
   "cell_type": "code",
   "execution_count": 50,
   "metadata": {},
   "outputs": [],
   "source": [
    "# data_df[\"Obese %\"] = data_df[\"Obese %\"].strip('%').strip()\n",
    "obesity_rate = data_df[\"Obese %\"].str.rstrip('%').astype('float') / 100.0\n",
    "locations_zip = data_df[[\"Lat\", \"Lng\"]].astype(float)\n"
   ]
  },
  {
   "cell_type": "code",
   "execution_count": 51,
   "metadata": {},
   "outputs": [
    {
     "data": {
      "application/vnd.jupyter.widget-view+json": {
       "model_id": "85b4baae430f4c998659fca33c1785cb",
       "version_major": 2,
       "version_minor": 0
      },
      "text/plain": [
       "Figure(layout=FigureLayout(height='420px'))"
      ]
     },
     "metadata": {},
     "output_type": "display_data"
    }
   ],
   "source": [
    "fig = gmaps.figure()\n",
    "\n",
    "heat_layer = gmaps.heatmap_layer(locations_zip, weights=obesity_rate, \n",
    "#                                  dissipating=False, max_intensity=100,\n",
    "                                 point_radius = 25)\n",
    "\n",
    "# Adjust heat_layer setting to help with heatmap dissipating on zoom\n",
    "# heat_layer.dissipating = False\n",
    "# heat_layer.max_intensity = 100\n",
    "heat_layer.point_radius = 25\n",
    "\n",
    "fig.add_layer(heat_layer)\n",
    "\n",
    "fig"
   ]
  },
  {
   "cell_type": "code",
   "execution_count": 52,
   "metadata": {},
   "outputs": [
    {
     "data": {
      "application/vnd.jupyter.widget-view+json": {
       "model_id": "2ceb467b05e64c00931cc3c44b8b6dd1",
       "version_major": 2,
       "version_minor": 0
      },
      "text/plain": [
       "Figure(layout=FigureLayout(height='420px'))"
      ]
     },
     "metadata": {},
     "output_type": "display_data"
    }
   ],
   "source": [
    "# markers = gmaps.marker_layer(locations)\n",
    "fig = gmaps.figure()\n",
    "store_layer = gmaps.symbol_layer(\n",
    "    locations, fill_color='rgba(300, 0, 0, 0.4)',\n",
    "    stroke_color='rgba(300, 0, 0, 0.4)', scale=2\n",
    ")\n",
    "fig.add_layer(store_layer)\n",
    "fig"
   ]
  },
  {
   "cell_type": "code",
   "execution_count": 53,
   "metadata": {},
   "outputs": [
    {
     "data": {
      "application/vnd.jupyter.widget-view+json": {
       "model_id": "3172d6af113d43e3b6a7550896b09031",
       "version_major": 2,
       "version_minor": 0
      },
      "text/plain": [
       "Figure(layout=FigureLayout(height='420px'))"
      ]
     },
     "metadata": {},
     "output_type": "display_data"
    }
   ],
   "source": [
    "fig = gmaps.figure()\n",
    "\n",
    "fig.add_layer(heat_layer)\n",
    "fig.add_layer(store_layer)\n",
    "\n",
    "fig"
   ]
  },
  {
   "cell_type": "code",
   "execution_count": null,
   "metadata": {},
   "outputs": [],
   "source": []
  },
  {
   "cell_type": "code",
   "execution_count": null,
   "metadata": {},
   "outputs": [],
   "source": []
  }
 ],
 "metadata": {
  "kernelspec": {
   "display_name": "Python 3",
   "language": "python",
   "name": "python3"
  },
  "language_info": {
   "codemirror_mode": {
    "name": "ipython",
    "version": 3
   },
   "file_extension": ".py",
   "mimetype": "text/x-python",
   "name": "python",
   "nbconvert_exporter": "python",
   "pygments_lexer": "ipython3",
   "version": "3.7.1"
  }
 },
 "nbformat": 4,
 "nbformat_minor": 2
}
